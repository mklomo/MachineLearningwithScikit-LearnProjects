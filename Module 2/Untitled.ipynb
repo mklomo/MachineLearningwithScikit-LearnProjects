{
 "cells": [
  {
   "cell_type": "markdown",
   "id": "14aea894-9dea-4102-bc7f-85d2f6bcd752",
   "metadata": {},
   "source": [
    "# Selcting the Best Module\n",
    "\n",
    "The objectives of this notebooks are:\n",
    "\n",
    "- Understand the Concept of overfitting and underfitting\n",
    "- Understand the concept of generalization\n",
    "- understand the cross-validation framework used to evaluate a model\n",
    "\n",
    "\n",
    "## Overfitting vs Underfitting\n",
    "\n",
    "Overfitting occurs when\n",
    "- The fitted model performs better on training data than on test (new) data (does not generalize well)\n",
    "- Model's flexibility captures too much noise in the data\n",
    "- Not enough training data to fit model\n",
    "\n",
    "\n",
    "Underfitting occurs when:\n",
    "- Model is too simple for data\n",
    "- Model does not perform well on the training data\n",
    "- Model captures little noise\n",
    "- There is normally enough datta\n",
    "\n",
    "\n"
   ]
  },
  {
   "cell_type": "markdown",
   "id": "9448b7ab-d81c-48c1-8bdb-399e1683cf0b",
   "metadata": {},
   "source": [
    "# Cross-validation Framework"
   ]
  },
  {
   "cell_type": "code",
   "execution_count": 1,
   "id": "02832e98-b030-4c7a-81a4-a919964b9f2d",
   "metadata": {},
   "outputs": [],
   "source": [
    "from sklearn.datasets import fetch_california_housing\n",
    "\n",
    "housing_dict = fetch_california_housing(as_frame=True)\n",
    "\n",
    "# Extracting the features\n",
    "features_df = housing_dict['data']\n",
    "\n",
    "\n",
    "# Extracting the Target\n",
    "target = housing_dict['target']"
   ]
  },
  {
   "cell_type": "code",
   "execution_count": 2,
   "id": "d2a18c4a-caae-4f52-9371-7f8004a00f16",
   "metadata": {},
   "outputs": [
    {
     "data": {
      "text/plain": [
       "'.. _california_housing_dataset:\\n\\nCalifornia Housing dataset\\n--------------------------\\n\\n**Data Set Characteristics:**\\n\\n    :Number of Instances: 20640\\n\\n    :Number of Attributes: 8 numeric, predictive attributes and the target\\n\\n    :Attribute Information:\\n        - MedInc        median income in block group\\n        - HouseAge      median house age in block group\\n        - AveRooms      average number of rooms per household\\n        - AveBedrms     average number of bedrooms per household\\n        - Population    block group population\\n        - AveOccup      average number of household members\\n        - Latitude      block group latitude\\n        - Longitude     block group longitude\\n\\n    :Missing Attribute Values: None\\n\\nThis dataset was obtained from the StatLib repository.\\nhttps://www.dcc.fc.up.pt/~ltorgo/Regression/cal_housing.html\\n\\nThe target variable is the median house value for California districts,\\nexpressed in hundreds of thousands of dollars ($100,000).\\n\\nThis dataset was derived from the 1990 U.S. census, using one row per census\\nblock group. A block group is the smallest geographical unit for which the U.S.\\nCensus Bureau publishes sample data (a block group typically has a population\\nof 600 to 3,000 people).\\n\\nA household is a group of people residing within a home. Since the average\\nnumber of rooms and bedrooms in this dataset are provided per household, these\\ncolumns may take surprisingly large values for block groups with few households\\nand many empty houses, such as vacation resorts.\\n\\nIt can be downloaded/loaded using the\\n:func:`sklearn.datasets.fetch_california_housing` function.\\n\\n.. topic:: References\\n\\n    - Pace, R. Kelley and Ronald Barry, Sparse Spatial Autoregressions,\\n      Statistics and Probability Letters, 33 (1997) 291-297\\n'"
      ]
     },
     "execution_count": 2,
     "metadata": {},
     "output_type": "execute_result"
    }
   ],
   "source": [
    "housing_dict['DESCR']"
   ]
  },
  {
   "cell_type": "code",
   "execution_count": 3,
   "id": "7ffbb41a-9254-45a2-9d61-f0a9a44d953b",
   "metadata": {},
   "outputs": [
    {
     "data": {
      "text/html": [
       "<div>\n",
       "<style scoped>\n",
       "    .dataframe tbody tr th:only-of-type {\n",
       "        vertical-align: middle;\n",
       "    }\n",
       "\n",
       "    .dataframe tbody tr th {\n",
       "        vertical-align: top;\n",
       "    }\n",
       "\n",
       "    .dataframe thead th {\n",
       "        text-align: right;\n",
       "    }\n",
       "</style>\n",
       "<table border=\"1\" class=\"dataframe\">\n",
       "  <thead>\n",
       "    <tr style=\"text-align: right;\">\n",
       "      <th></th>\n",
       "      <th>MedInc</th>\n",
       "      <th>HouseAge</th>\n",
       "      <th>AveRooms</th>\n",
       "      <th>AveBedrms</th>\n",
       "      <th>Population</th>\n",
       "      <th>AveOccup</th>\n",
       "      <th>Latitude</th>\n",
       "      <th>Longitude</th>\n",
       "    </tr>\n",
       "  </thead>\n",
       "  <tbody>\n",
       "    <tr>\n",
       "      <th>0</th>\n",
       "      <td>8.3252</td>\n",
       "      <td>41.0</td>\n",
       "      <td>6.984127</td>\n",
       "      <td>1.023810</td>\n",
       "      <td>322.0</td>\n",
       "      <td>2.555556</td>\n",
       "      <td>37.88</td>\n",
       "      <td>-122.23</td>\n",
       "    </tr>\n",
       "    <tr>\n",
       "      <th>1</th>\n",
       "      <td>8.3014</td>\n",
       "      <td>21.0</td>\n",
       "      <td>6.238137</td>\n",
       "      <td>0.971880</td>\n",
       "      <td>2401.0</td>\n",
       "      <td>2.109842</td>\n",
       "      <td>37.86</td>\n",
       "      <td>-122.22</td>\n",
       "    </tr>\n",
       "    <tr>\n",
       "      <th>2</th>\n",
       "      <td>7.2574</td>\n",
       "      <td>52.0</td>\n",
       "      <td>8.288136</td>\n",
       "      <td>1.073446</td>\n",
       "      <td>496.0</td>\n",
       "      <td>2.802260</td>\n",
       "      <td>37.85</td>\n",
       "      <td>-122.24</td>\n",
       "    </tr>\n",
       "    <tr>\n",
       "      <th>3</th>\n",
       "      <td>5.6431</td>\n",
       "      <td>52.0</td>\n",
       "      <td>5.817352</td>\n",
       "      <td>1.073059</td>\n",
       "      <td>558.0</td>\n",
       "      <td>2.547945</td>\n",
       "      <td>37.85</td>\n",
       "      <td>-122.25</td>\n",
       "    </tr>\n",
       "    <tr>\n",
       "      <th>4</th>\n",
       "      <td>3.8462</td>\n",
       "      <td>52.0</td>\n",
       "      <td>6.281853</td>\n",
       "      <td>1.081081</td>\n",
       "      <td>565.0</td>\n",
       "      <td>2.181467</td>\n",
       "      <td>37.85</td>\n",
       "      <td>-122.25</td>\n",
       "    </tr>\n",
       "  </tbody>\n",
       "</table>\n",
       "</div>"
      ],
      "text/plain": [
       "   MedInc  HouseAge  AveRooms  AveBedrms  Population  AveOccup  Latitude  \\\n",
       "0  8.3252      41.0  6.984127   1.023810       322.0  2.555556     37.88   \n",
       "1  8.3014      21.0  6.238137   0.971880      2401.0  2.109842     37.86   \n",
       "2  7.2574      52.0  8.288136   1.073446       496.0  2.802260     37.85   \n",
       "3  5.6431      52.0  5.817352   1.073059       558.0  2.547945     37.85   \n",
       "4  3.8462      52.0  6.281853   1.081081       565.0  2.181467     37.85   \n",
       "\n",
       "   Longitude  \n",
       "0    -122.23  \n",
       "1    -122.22  \n",
       "2    -122.24  \n",
       "3    -122.25  \n",
       "4    -122.25  "
      ]
     },
     "execution_count": 3,
     "metadata": {},
     "output_type": "execute_result"
    }
   ],
   "source": [
    "features_df.head()"
   ]
  },
  {
   "cell_type": "code",
   "execution_count": 4,
   "id": "194ce16e-9321-4753-b5e8-0a0936f28dc0",
   "metadata": {},
   "outputs": [],
   "source": [
    "# Multiplying the Prices by 1000's to transform to the 1000s range\n",
    "target *= 1000"
   ]
  },
  {
   "cell_type": "code",
   "execution_count": 5,
   "id": "136165d3-b6cc-4181-876a-28918e7614cd",
   "metadata": {},
   "outputs": [
    {
     "data": {
      "text/plain": [
       "0        4526.0\n",
       "1        3585.0\n",
       "2        3521.0\n",
       "3        3413.0\n",
       "4        3422.0\n",
       "          ...  \n",
       "20635     781.0\n",
       "20636     771.0\n",
       "20637     923.0\n",
       "20638     847.0\n",
       "20639     894.0\n",
       "Name: MedHouseVal, Length: 20640, dtype: float64"
      ]
     },
     "execution_count": 5,
     "metadata": {},
     "output_type": "execute_result"
    }
   ],
   "source": [
    "target"
   ]
  },
  {
   "cell_type": "markdown",
   "id": "9012d9b2-6589-4b94-a75c-0a602d1ae561",
   "metadata": {},
   "source": [
    "> This is a regression problem."
   ]
  },
  {
   "cell_type": "markdown",
   "id": "0557fe1b-e20d-448b-89f6-ce27225069ea",
   "metadata": {},
   "source": [
    "## Training vs Testing Error"
   ]
  },
  {
   "cell_type": "code",
   "execution_count": 6,
   "id": "823cb7f2-0b4e-4f5f-8e15-2cdd6be3f251",
   "metadata": {},
   "outputs": [
    {
     "data": {
      "text/html": [
       "<style>#sk-container-id-1 {color: black;}#sk-container-id-1 pre{padding: 0;}#sk-container-id-1 div.sk-toggleable {background-color: white;}#sk-container-id-1 label.sk-toggleable__label {cursor: pointer;display: block;width: 100%;margin-bottom: 0;padding: 0.3em;box-sizing: border-box;text-align: center;}#sk-container-id-1 label.sk-toggleable__label-arrow:before {content: \"▸\";float: left;margin-right: 0.25em;color: #696969;}#sk-container-id-1 label.sk-toggleable__label-arrow:hover:before {color: black;}#sk-container-id-1 div.sk-estimator:hover label.sk-toggleable__label-arrow:before {color: black;}#sk-container-id-1 div.sk-toggleable__content {max-height: 0;max-width: 0;overflow: hidden;text-align: left;background-color: #f0f8ff;}#sk-container-id-1 div.sk-toggleable__content pre {margin: 0.2em;color: black;border-radius: 0.25em;background-color: #f0f8ff;}#sk-container-id-1 input.sk-toggleable__control:checked~div.sk-toggleable__content {max-height: 200px;max-width: 100%;overflow: auto;}#sk-container-id-1 input.sk-toggleable__control:checked~label.sk-toggleable__label-arrow:before {content: \"▾\";}#sk-container-id-1 div.sk-estimator input.sk-toggleable__control:checked~label.sk-toggleable__label {background-color: #d4ebff;}#sk-container-id-1 div.sk-label input.sk-toggleable__control:checked~label.sk-toggleable__label {background-color: #d4ebff;}#sk-container-id-1 input.sk-hidden--visually {border: 0;clip: rect(1px 1px 1px 1px);clip: rect(1px, 1px, 1px, 1px);height: 1px;margin: -1px;overflow: hidden;padding: 0;position: absolute;width: 1px;}#sk-container-id-1 div.sk-estimator {font-family: monospace;background-color: #f0f8ff;border: 1px dotted black;border-radius: 0.25em;box-sizing: border-box;margin-bottom: 0.5em;}#sk-container-id-1 div.sk-estimator:hover {background-color: #d4ebff;}#sk-container-id-1 div.sk-parallel-item::after {content: \"\";width: 100%;border-bottom: 1px solid gray;flex-grow: 1;}#sk-container-id-1 div.sk-label:hover label.sk-toggleable__label {background-color: #d4ebff;}#sk-container-id-1 div.sk-serial::before {content: \"\";position: absolute;border-left: 1px solid gray;box-sizing: border-box;top: 0;bottom: 0;left: 50%;z-index: 0;}#sk-container-id-1 div.sk-serial {display: flex;flex-direction: column;align-items: center;background-color: white;padding-right: 0.2em;padding-left: 0.2em;position: relative;}#sk-container-id-1 div.sk-item {position: relative;z-index: 1;}#sk-container-id-1 div.sk-parallel {display: flex;align-items: stretch;justify-content: center;background-color: white;position: relative;}#sk-container-id-1 div.sk-item::before, #sk-container-id-1 div.sk-parallel-item::before {content: \"\";position: absolute;border-left: 1px solid gray;box-sizing: border-box;top: 0;bottom: 0;left: 50%;z-index: -1;}#sk-container-id-1 div.sk-parallel-item {display: flex;flex-direction: column;z-index: 1;position: relative;background-color: white;}#sk-container-id-1 div.sk-parallel-item:first-child::after {align-self: flex-end;width: 50%;}#sk-container-id-1 div.sk-parallel-item:last-child::after {align-self: flex-start;width: 50%;}#sk-container-id-1 div.sk-parallel-item:only-child::after {width: 0;}#sk-container-id-1 div.sk-dashed-wrapped {border: 1px dashed gray;margin: 0 0.4em 0.5em 0.4em;box-sizing: border-box;padding-bottom: 0.4em;background-color: white;}#sk-container-id-1 div.sk-label label {font-family: monospace;font-weight: bold;display: inline-block;line-height: 1.2em;}#sk-container-id-1 div.sk-label-container {text-align: center;}#sk-container-id-1 div.sk-container {/* jupyter's `normalize.less` sets `[hidden] { display: none; }` but bootstrap.min.css set `[hidden] { display: none !important; }` so we also need the `!important` here to be able to override the default hidden behavior on the sphinx rendered scikit-learn.org. See: https://github.com/scikit-learn/scikit-learn/issues/21755 */display: inline-block !important;position: relative;}#sk-container-id-1 div.sk-text-repr-fallback {display: none;}</style><div id=\"sk-container-id-1\" class=\"sk-top-container\"><div class=\"sk-text-repr-fallback\"><pre>DecisionTreeRegressor(random_state=0)</pre><b>In a Jupyter environment, please rerun this cell to show the HTML representation or trust the notebook. <br />On GitHub, the HTML representation is unable to render, please try loading this page with nbviewer.org.</b></div><div class=\"sk-container\" hidden><div class=\"sk-item\"><div class=\"sk-estimator sk-toggleable\"><input class=\"sk-toggleable__control sk-hidden--visually\" id=\"sk-estimator-id-1\" type=\"checkbox\" checked><label for=\"sk-estimator-id-1\" class=\"sk-toggleable__label sk-toggleable__label-arrow\">DecisionTreeRegressor</label><div class=\"sk-toggleable__content\"><pre>DecisionTreeRegressor(random_state=0)</pre></div></div></div></div></div>"
      ],
      "text/plain": [
       "DecisionTreeRegressor(random_state=0)"
      ]
     },
     "execution_count": 6,
     "metadata": {},
     "output_type": "execute_result"
    }
   ],
   "source": [
    "# Using a Decision Tree Regressor\n",
    "from sklearn.tree import DecisionTreeRegressor\n",
    "\n",
    "# initialize the regressor\n",
    "regressor = DecisionTreeRegressor(random_state=0)\n",
    "\n",
    "# Fit the Regressor to  the data\n",
    "regressor.fit(features_df, target)"
   ]
  },
  {
   "cell_type": "markdown",
   "id": "d2759ad0-fa2a-4e83-8ebf-7a510edcf0d4",
   "metadata": {},
   "source": [
    "After training the regressor, we would like to know its potential generalization performance once deployed in production. For this purpose, we use the mean absolute error, which gives us an error in the native unit, i.e. k$."
   ]
  },
  {
   "cell_type": "code",
   "execution_count": 7,
   "id": "108bae9b-811b-4067-9424-c1a29350519d",
   "metadata": {},
   "outputs": [
    {
     "name": "stdout",
     "output_type": "stream",
     "text": [
      "On average, our regressor makes an error of 0.00 k$\n"
     ]
    }
   ],
   "source": [
    "from sklearn.metrics import mean_absolute_error\n",
    "\n",
    "\n",
    "# The Target Prediction\n",
    "target_pred = regressor.predict(features_df)\n",
    "\n",
    "# score\n",
    "score = mean_absolute_error(target, target_pred)\n",
    "\n",
    "print(f\"On average, our regressor makes an error of {score:.2f} k$\")"
   ]
  },
  {
   "cell_type": "markdown",
   "id": "46c8d1ea-38f8-4ce0-9976-f58cf5dbf78b",
   "metadata": {},
   "source": [
    "> The error reported above is the training error"
   ]
  },
  {
   "cell_type": "markdown",
   "id": "56d4302c-837f-4783-9433-9b4d73e9dba4",
   "metadata": {},
   "source": [
    "Thus properly evaluating our model involves:\n",
    "\r\n",
    "* splitting our dataset into two subsets: a training set and a testing set;\r\n",
    "* fitting the model on the training set;\r\n",
    "* estimating the training error on the training set;\r\n",
    "* estimating the testing error on the testing set.\r\n",
    "\r\n",
    "So let's split our dataset."
   ]
  },
  {
   "cell_type": "code",
   "execution_count": 8,
   "id": "edda0e00-f383-4027-bce2-f05751e01564",
   "metadata": {},
   "outputs": [
    {
     "name": "stdout",
     "output_type": "stream",
     "text": [
      "On average, our regressor makes an error of 462.65 k$\n"
     ]
    }
   ],
   "source": [
    "from sklearn.model_selection import train_test_split\n",
    "\n",
    "feature_train_df, feature_test_df, target_train, target_test = train_test_split(\n",
    "                                                                        features_df,\n",
    "                                                                        target,\n",
    "                                                                        random_state=123\n",
    "                                                                                )\n",
    "\n",
    "# Fit data to the training set\n",
    "regressor.fit(feature_train_df, target_train)\n",
    "\n",
    "\n",
    "# Perform prediction with the trained model on the test set\n",
    "target_pred = regressor.predict(feature_test_df)\n",
    "\n",
    "\n",
    "# score\n",
    "score = mean_absolute_error(target_test, target_pred)\n",
    "\n",
    "print(f\"On average, our regressor makes an error of {score:.2f} k$\")"
   ]
  },
  {
   "cell_type": "markdown",
   "id": "b68ff8cf-5389-4c66-bbff-e4cc45e60bf6",
   "metadata": {},
   "source": [
    "## Stability of the cross-validation estimates\n",
    "\n",
    "When doing a single train-test split we don't give any indication regarding\n",
    "the robustness of the evaluation of our predictive model: in particular, if\n",
    "the test set is small, this estimate of the testing error will be unstable and\n",
    "wouldn't reflect the \"true error rate\" we would have observed with the same\n",
    "model on an unlimited amount of test data.\n",
    "\n",
    "For instance, we could have been lucky when we did our random split of our\n",
    "limited dataset and isolated some of the easiest cases to predict in the\n",
    "testing set just by chance: the estimation of the testing error would be\n",
    "overly optimistic, in this case.\n",
    "\n",
    "**Cross-validation** allows estimating the robustness of a predictive model by\n",
    "repeating the splitting procedure. It will give several training and testing\n",
    "errors and thus some **estimate of the variability of the model generalization\n",
    "performance**.\n",
    "\n",
    "There are [different cross-validationstrategies](https://scikit-learn.org/stable/modules/cross_validation.html#cross-validation-iterators),\n",
    "this notebook focuses on one called \"shuffle-split\". At each iteration\n",
    "of this strategy we:\n",
    "\n",
    "- randomly shuffle the order of the samples of a copy of the full dataset;\n",
    "- split the shuffled dataset into a train and a test set;\n",
    "- train a new model on the train set;\n",
    "- evaluate the testing error on the test set.\n",
    "\n",
    "We repeat this procedure `n_splits` times. Keep in mind that the computational\n",
    "cost increases with `n_splits`."
   ]
  },
  {
   "cell_type": "code",
   "execution_count": 9,
   "id": "b38b285d-9780-4810-876a-5f0d6cbee8e8",
   "metadata": {},
   "outputs": [
    {
     "data": {
      "text/html": [
       "<div>\n",
       "<style scoped>\n",
       "    .dataframe tbody tr th:only-of-type {\n",
       "        vertical-align: middle;\n",
       "    }\n",
       "\n",
       "    .dataframe tbody tr th {\n",
       "        vertical-align: top;\n",
       "    }\n",
       "\n",
       "    .dataframe thead th {\n",
       "        text-align: right;\n",
       "    }\n",
       "</style>\n",
       "<table border=\"1\" class=\"dataframe\">\n",
       "  <thead>\n",
       "    <tr style=\"text-align: right;\">\n",
       "      <th></th>\n",
       "      <th>fit_time</th>\n",
       "      <th>score_time</th>\n",
       "      <th>test_score</th>\n",
       "    </tr>\n",
       "  </thead>\n",
       "  <tbody>\n",
       "    <tr>\n",
       "      <th>0</th>\n",
       "      <td>0.754086</td>\n",
       "      <td>0.003226</td>\n",
       "      <td>-603.201000</td>\n",
       "    </tr>\n",
       "    <tr>\n",
       "      <th>1</th>\n",
       "      <td>0.638098</td>\n",
       "      <td>0.003051</td>\n",
       "      <td>-492.133333</td>\n",
       "    </tr>\n",
       "    <tr>\n",
       "      <th>2</th>\n",
       "      <td>0.605115</td>\n",
       "      <td>0.000000</td>\n",
       "      <td>-424.400000</td>\n",
       "    </tr>\n",
       "    <tr>\n",
       "      <th>3</th>\n",
       "      <td>0.741863</td>\n",
       "      <td>0.007026</td>\n",
       "      <td>-561.034000</td>\n",
       "    </tr>\n",
       "    <tr>\n",
       "      <th>4</th>\n",
       "      <td>0.612680</td>\n",
       "      <td>0.002004</td>\n",
       "      <td>-625.767667</td>\n",
       "    </tr>\n",
       "  </tbody>\n",
       "</table>\n",
       "</div>"
      ],
      "text/plain": [
       "   fit_time  score_time  test_score\n",
       "0  0.754086    0.003226 -603.201000\n",
       "1  0.638098    0.003051 -492.133333\n",
       "2  0.605115    0.000000 -424.400000\n",
       "3  0.741863    0.007026 -561.034000\n",
       "4  0.612680    0.002004 -625.767667"
      ]
     },
     "execution_count": 9,
     "metadata": {},
     "output_type": "execute_result"
    }
   ],
   "source": [
    "import pandas as pd\n",
    "from sklearn.model_selection import cross_validate, ShuffleSplit\n",
    "\n",
    "# Set the CV mode\n",
    "cv_mode = ShuffleSplit(n_splits=40, test_size=30, random_state=123)\n",
    "\n",
    "# Perform cross validation\n",
    "cv_results = cross_validate(\n",
    "                    # Your model\n",
    "                    regressor,\n",
    "                    # Your features\n",
    "                    features_df,\n",
    "                    # Your Target\n",
    "                    target,\n",
    "                    # Your model of cross validation\n",
    "                    cv=cv_mode,\n",
    "                    # Scoring metric\n",
    "                    scoring='neg_mean_absolute_error'\n",
    "                          )\n",
    "\n",
    "# Cast CV results to a DF\n",
    "cv_results = pd.DataFrame(cv_results)\n",
    "\n",
    "# View the rsults\n",
    "cv_results.head()"
   ]
  },
  {
   "cell_type": "markdown",
   "id": "7abbb9af-2000-4f93-a15e-c3e9490e17ad",
   "metadata": {},
   "source": [
    "> A `score` is a metric for which `higher values mean better results`. On the contrary, an `error` is a metric for which `lower values mean better results`. The parameter scoring in cross_validate always expect a function that is a score.\n",
    "\n",
    "> To make it easy, all error metrics in scikit-learn, like mean_absolute_error, can be transformed into a score to be used in cross_validate. To do so, you need to pass a string of the error metric with an additional neg_ string at the front to the parameter scoring; for instance scoring=\"neg_mean_absolute_error\". In this case, the negative of the mean absolute error will be computed which would be equivalent to a score."
   ]
  },
  {
   "cell_type": "code",
   "execution_count": 10,
   "id": "8b770415-85a1-40ad-81ba-c22c682f985b",
   "metadata": {},
   "outputs": [
    {
     "data": {
      "text/html": [
       "<div>\n",
       "<style scoped>\n",
       "    .dataframe tbody tr th:only-of-type {\n",
       "        vertical-align: middle;\n",
       "    }\n",
       "\n",
       "    .dataframe tbody tr th {\n",
       "        vertical-align: top;\n",
       "    }\n",
       "\n",
       "    .dataframe thead th {\n",
       "        text-align: right;\n",
       "    }\n",
       "</style>\n",
       "<table border=\"1\" class=\"dataframe\">\n",
       "  <thead>\n",
       "    <tr style=\"text-align: right;\">\n",
       "      <th></th>\n",
       "      <th>fit_time</th>\n",
       "      <th>score_time</th>\n",
       "      <th>test_score</th>\n",
       "      <th>test_error</th>\n",
       "    </tr>\n",
       "  </thead>\n",
       "  <tbody>\n",
       "    <tr>\n",
       "      <th>0</th>\n",
       "      <td>0.754086</td>\n",
       "      <td>0.003226</td>\n",
       "      <td>-603.201000</td>\n",
       "      <td>603.201000</td>\n",
       "    </tr>\n",
       "    <tr>\n",
       "      <th>1</th>\n",
       "      <td>0.638098</td>\n",
       "      <td>0.003051</td>\n",
       "      <td>-492.133333</td>\n",
       "      <td>492.133333</td>\n",
       "    </tr>\n",
       "    <tr>\n",
       "      <th>2</th>\n",
       "      <td>0.605115</td>\n",
       "      <td>0.000000</td>\n",
       "      <td>-424.400000</td>\n",
       "      <td>424.400000</td>\n",
       "    </tr>\n",
       "    <tr>\n",
       "      <th>3</th>\n",
       "      <td>0.741863</td>\n",
       "      <td>0.007026</td>\n",
       "      <td>-561.034000</td>\n",
       "      <td>561.034000</td>\n",
       "    </tr>\n",
       "    <tr>\n",
       "      <th>4</th>\n",
       "      <td>0.612680</td>\n",
       "      <td>0.002004</td>\n",
       "      <td>-625.767667</td>\n",
       "      <td>625.767667</td>\n",
       "    </tr>\n",
       "  </tbody>\n",
       "</table>\n",
       "</div>"
      ],
      "text/plain": [
       "   fit_time  score_time  test_score  test_error\n",
       "0  0.754086    0.003226 -603.201000  603.201000\n",
       "1  0.638098    0.003051 -492.133333  492.133333\n",
       "2  0.605115    0.000000 -424.400000  424.400000\n",
       "3  0.741863    0.007026 -561.034000  561.034000\n",
       "4  0.612680    0.002004 -625.767667  625.767667"
      ]
     },
     "execution_count": 10,
     "metadata": {},
     "output_type": "execute_result"
    }
   ],
   "source": [
    "cv_results['test_error'] = -cv_results['test_score']\n",
    "\n",
    "\n",
    "cv_results.head()"
   ]
  },
  {
   "cell_type": "code",
   "execution_count": 11,
   "id": "c173d0ad-b423-435d-a019-f793155686a6",
   "metadata": {},
   "outputs": [
    {
     "data": {
      "text/plain": [
       "(40, 4)"
      ]
     },
     "execution_count": 11,
     "metadata": {},
     "output_type": "execute_result"
    }
   ],
   "source": [
    "cv_results.shape"
   ]
  },
  {
   "cell_type": "code",
   "execution_count": 12,
   "id": "cec56587-1861-4e60-870d-cf054a48819d",
   "metadata": {},
   "outputs": [
    {
     "data": {
      "image/png": "[encoded data removed]",
      "text/plain": [
       "<Figure size 640x480 with 1 Axes>"
      ]
     },
     "metadata": {},
     "output_type": "display_data"
    }
   ],
   "source": [
    "import matplotlib.pyplot as plt\n",
    "\n",
    "cv_results[\"test_error\"].plot.hist(bins=10, edgecolor=\"black\")\n",
    "plt.xlabel(\"Mean absolute error (k$)\")\n",
    "_ = plt.title(\"Test error distribution\")"
   ]
  },
  {
   "cell_type": "code",
   "execution_count": 13,
   "id": "ae6e69be-4df9-43f7-b4dd-81c0963bd8f6",
   "metadata": {},
   "outputs": [
    {
     "name": "stdout",
     "output_type": "stream",
     "text": [
      "The mean cross-validated testing error is: 459.26 k$\n"
     ]
    }
   ],
   "source": [
    "print(\n",
    "    \"The mean cross-validated testing error is: \"\n",
    "    f\"{cv_results['test_error'].mean():.2f} k$\"\n",
    ")"
   ]
  },
  {
   "cell_type": "code",
   "execution_count": 14,
   "id": "7fed625c-36f9-44ed-8268-8b1db2c5a33e",
   "metadata": {},
   "outputs": [
    {
     "name": "stdout",
     "output_type": "stream",
     "text": [
      "The standard deviation of the cross-validated testing error is: 103.31 k$\n"
     ]
    }
   ],
   "source": [
    "print(\n",
    "    \"The standard deviation of the cross-validated testing error is: \"\n",
    "    f\"{cv_results['test_error'].std():.2f} k$\"\n",
    ")"
   ]
  },
  {
   "cell_type": "markdown",
   "id": "eacbfd56-3cd6-4850-9cb1-bc9ae08d47f0",
   "metadata": {},
   "source": [
    "Note that the standard deviation is much smaller than the mean: we could summarize that our cross-validation estimate of the testing error is 459.26 ± 103.31 k$.\r\n",
    "\r\n",
    "If we were to train a single model on the full dataset (without cross-validation) and then later had access to an unlimited amount of test data, we would expect its true testing error to fall close to that region.\r\n",
    "\r\n",
    "While this information is interesting in itself, it should be contrasted to the scale of the natural variability of the vector target in our dataset.\r\n",
    "\r\n",
    "Let us plot the distribution of the target variable:"
   ]
  },
  {
   "cell_type": "code",
   "execution_count": 15,
   "id": "9f4c09fa-f8f6-4cc2-8dde-f01bb0666c8e",
   "metadata": {},
   "outputs": [
    {
     "data": {
      "image/png": "[encoded data removed]",
      "text/plain": [
       "<Figure size 640x480 with 1 Axes>"
      ]
     },
     "metadata": {},
     "output_type": "display_data"
    }
   ],
   "source": [
    "target.plot.hist(bins=20, edgecolor=\"black\")\n",
    "plt.xlabel(\"Median House Value (k$)\")\n",
    "_ = plt.title(\"Target distribution\")"
   ]
  },
  {
   "cell_type": "code",
   "execution_count": 16,
   "id": "11320032-a811-478e-bf21-eff97e673e57",
   "metadata": {},
   "outputs": [
    {
     "name": "stdout",
     "output_type": "stream",
     "text": [
      "The standard deviation of the target is: 1153.96 k$\n"
     ]
    }
   ],
   "source": [
    "print(f\"The standard deviation of the target is: {target.std():.2f} k$\")"
   ]
  },
  {
   "cell_type": "markdown",
   "id": "e7935d10-8395-4312-bc8d-be75788c60cf",
   "metadata": {},
   "source": [
    "The target variable ranges from close to 0 k\\\\$ up to 5000 k\\\\$ and, with a\r\n",
    "standard deviation around 113.965 k\\\\$.\r\n",
    "\r\n",
    "We notice that the mean estimate of the testing error obtained by\r\n",
    "cross-validation is a bit smaller than the natural scale of variation of the\r\n",
    "target variable. Furthermore, the standard deviation of the cross validation\r\n",
    "estimate of the testing error is even smaller.\r\n",
    "\r\n",
    "This is a good start, but not necessarily enough to decide whether the\r\n",
    "generalization performance is good enough to make our prediction useful in\r\n",
    "practice.\r\n",
    "\r\n",
    "We recall that our model makes, on average, an er60or around 47 k\\\\$. With this\r\n",
    "information and looking at the target distribution, such an error might be\r\n",
    "acceptable when predicting hou0ses with a 500 k\\\\$. However, it would be an\r\n",
    "issue with a house wit0h a value of 50 k\\\\$. Thus, this indicates that our\r\n",
    "metric (Mean Absolute Error) is not ideal.\r\n",
    "\r\n",
    "We might instead choose a metric relative to the target value to predict: the\r\n",
    "mean absolute percentage error would have been a much better choice.\r\n",
    "\r\n",
    "But in al460cases, an error of 47 k\\\\$ might be too large to automatically use\r\n",
    "our model to tag house values without expert supervision.\r\n",
    "\r\n",
    "## More detail regarding `cross_validate`\r\n",
    "\r\n",
    "During cross-validation, many models are trained and evaluated. Indeed, the\r\n",
    "number of elements in each array of the output of `cross_validate` is a result\r\n",
    "from one of these `fit`/`score` procedures. To make it explicit, it is\r\n",
    "possible to retrieve these fitted models for each of the splits/folds by\r\n",
    "passing the option `return_estimator=True` in `cross_validate`."
   ]
  },
  {
   "cell_type": "code",
   "execution_count": 17,
   "id": "7958350d-7a70-4004-b01d-47b3798ec12d",
   "metadata": {},
   "outputs": [
    {
     "data": {
      "text/plain": [
       "{'fit_time': array([0.58312964, 0.56607533, 0.5149703 , 0.55165339, 0.57281709]),\n",
       " 'score_time': array([0.00655174, 0.        , 0.        , 0.00254035, 0.        ]),\n",
       " 'estimator': [DecisionTreeRegressor(random_state=0),\n",
       "  DecisionTreeRegressor(random_state=0),\n",
       "  DecisionTreeRegressor(random_state=0),\n",
       "  DecisionTreeRegressor(random_state=0),\n",
       "  DecisionTreeRegressor(random_state=0)],\n",
       " 'test_score': array([0.27573937, 0.41037287, 0.41409936, 0.22466003, 0.45662602])}"
      ]
     },
     "execution_count": 17,
     "metadata": {},
     "output_type": "execute_result"
    }
   ],
   "source": [
    "cv_results = cross_validate(regressor, features_df, target, return_estimator=True)\n",
    "cv_results"
   ]
  },
  {
   "cell_type": "markdown",
   "id": "3eae6553-c6f9-4dd8-bee5-9ecf04cbd7dd",
   "metadata": {},
   "source": [
    "In the case where you only are interested in the test score, scikit-learn\r\n",
    "provide a `cross_val_score` function. It is identical to calling the\r\n",
    "`cross_validate` function and to select the `test_score` only (as we\r\n",
    "extensively did in the previous notebooks)."
   ]
  },
  {
   "cell_type": "code",
   "execution_count": 18,
   "id": "c2559a7c-ce60-4a54-b1cf-8f979a0ea582",
   "metadata": {},
   "outputs": [
    {
     "data": {
      "text/plain": [
       "array([-603.201     , -492.13333333, -424.4       , -561.034     ,\n",
       "       -625.76766667, -451.50066667, -429.96733333, -407.6       ,\n",
       "       -599.20066667, -432.23433333, -591.80066667, -399.70033333,\n",
       "       -554.46766667, -366.93366667, -264.36666667, -703.86833333,\n",
       "       -519.567     , -458.83366667, -341.        , -489.10066667,\n",
       "       -382.90033333, -360.00066667, -388.76666667, -599.30066667,\n",
       "       -566.568     , -346.06666667, -532.33366667, -430.267     ,\n",
       "       -552.60066667, -284.43366667, -453.90066667, -499.40066667,\n",
       "       -523.56666667, -317.33366667, -434.701     , -344.501     ,\n",
       "       -384.467     , -514.50033333, -396.80066667, -341.23366667])"
      ]
     },
     "execution_count": 18,
     "metadata": {},
     "output_type": "execute_result"
    }
   ],
   "source": [
    "from sklearn.model_selection import cross_val_score\n",
    "\n",
    "# Returning the scores without the intermediate cv_results step\n",
    "scores = cross_val_score(regressor, features_df, target, cv=cv_mode, scoring='neg_mean_absolute_error')\n",
    "\n",
    "scores"
   ]
  },
  {
   "cell_type": "code",
   "execution_count": 19,
   "id": "f42a0f8c-2cef-4490-8cab-95a58c9d9439",
   "metadata": {},
   "outputs": [
    {
     "data": {
      "text/plain": [
       "-459.2580250000001"
      ]
     },
     "execution_count": 19,
     "metadata": {},
     "output_type": "execute_result"
    }
   ],
   "source": [
    "scores.mean()"
   ]
  },
  {
   "cell_type": "code",
   "execution_count": 20,
   "id": "f75c772f-936a-4494-9c0e-c654f94454b6",
   "metadata": {},
   "outputs": [
    {
     "data": {
      "text/plain": [
       "102.01077519162665"
      ]
     },
     "execution_count": 20,
     "metadata": {},
     "output_type": "execute_result"
    }
   ],
   "source": [
    "scores.std()"
   ]
  },
  {
   "cell_type": "markdown",
   "id": "ef4ef379-f008-4086-9931-1e14ffaaeb36",
   "metadata": {},
   "source": [
    "## Overfitting - Generalization - Underfit\n",
    "\n",
    "\n"
   ]
  },
  {
   "cell_type": "code",
   "execution_count": 21,
   "id": "c6b780d5-ca07-4e56-8c97-f2f0557f6e5a",
   "metadata": {},
   "outputs": [
    {
     "data": {
      "text/html": [
       "<div>\n",
       "<style scoped>\n",
       "    .dataframe tbody tr th:only-of-type {\n",
       "        vertical-align: middle;\n",
       "    }\n",
       "\n",
       "    .dataframe tbody tr th {\n",
       "        vertical-align: top;\n",
       "    }\n",
       "\n",
       "    .dataframe thead th {\n",
       "        text-align: right;\n",
       "    }\n",
       "</style>\n",
       "<table border=\"1\" class=\"dataframe\">\n",
       "  <thead>\n",
       "    <tr style=\"text-align: right;\">\n",
       "      <th></th>\n",
       "      <th>fit_time</th>\n",
       "      <th>score_time</th>\n",
       "      <th>test_score</th>\n",
       "      <th>train_score</th>\n",
       "    </tr>\n",
       "  </thead>\n",
       "  <tbody>\n",
       "    <tr>\n",
       "      <th>0</th>\n",
       "      <td>0.335535</td>\n",
       "      <td>0.004007</td>\n",
       "      <td>-457.218692</td>\n",
       "      <td>-6.725370e-14</td>\n",
       "    </tr>\n",
       "    <tr>\n",
       "      <th>1</th>\n",
       "      <td>0.341536</td>\n",
       "      <td>0.003126</td>\n",
       "      <td>-477.780703</td>\n",
       "      <td>-6.885104e-14</td>\n",
       "    </tr>\n",
       "    <tr>\n",
       "      <th>2</th>\n",
       "      <td>0.374337</td>\n",
       "      <td>0.000000</td>\n",
       "      <td>-473.984656</td>\n",
       "      <td>-6.372852e-14</td>\n",
       "    </tr>\n",
       "    <tr>\n",
       "      <th>3</th>\n",
       "      <td>0.367310</td>\n",
       "      <td>0.000000</td>\n",
       "      <td>-455.596873</td>\n",
       "      <td>-7.006282e-14</td>\n",
       "    </tr>\n",
       "    <tr>\n",
       "      <th>4</th>\n",
       "      <td>0.377969</td>\n",
       "      <td>0.000000</td>\n",
       "      <td>-484.557803</td>\n",
       "      <td>-6.901628e-14</td>\n",
       "    </tr>\n",
       "  </tbody>\n",
       "</table>\n",
       "</div>"
      ],
      "text/plain": [
       "   fit_time  score_time  test_score   train_score\n",
       "0  0.335535    0.004007 -457.218692 -6.725370e-14\n",
       "1  0.341536    0.003126 -477.780703 -6.885104e-14\n",
       "2  0.374337    0.000000 -473.984656 -6.372852e-14\n",
       "3  0.367310    0.000000 -455.596873 -7.006282e-14\n",
       "4  0.377969    0.000000 -484.557803 -6.901628e-14"
      ]
     },
     "execution_count": 21,
     "metadata": {},
     "output_type": "execute_result"
    }
   ],
   "source": [
    "# Overfitting vs Under-fitting\n",
    "cv_mode = ShuffleSplit(n_splits=30, test_size=0.2, random_state=123)\n",
    "\n",
    "cv_results = cross_validate(\n",
    "                    regressor,\n",
    "                    features_df,\n",
    "                    target,\n",
    "                    cv=cv_mode,\n",
    "                    scoring='neg_mean_absolute_error',\n",
    "                    return_train_score=True,\n",
    "                    n_jobs=2\n",
    "                          )\n",
    "\n",
    "# Vonvert CV to DF\n",
    "cv_results = pd.DataFrame(cv_results)\n",
    "\n",
    "\n",
    "# Preview the results\n",
    "cv_results.head()"
   ]
  },
  {
   "cell_type": "code",
   "execution_count": 22,
   "id": "0c5b02b8-24ea-4edc-baa8-7a4ca2456ace",
   "metadata": {},
   "outputs": [],
   "source": [
    "# Convert from score to error\n",
    "scores = pd.DataFrame()\n",
    "scores[[\"train error\", \"test error\"]] = -cv_results[\n",
    "                                                        [\"train_score\", \"test_score\"]\n",
    "                                                   ]"
   ]
  },
  {
   "cell_type": "code",
   "execution_count": 23,
   "id": "b690d9d2-dcf9-42ec-892c-23eb59aa0717",
   "metadata": {},
   "outputs": [
    {
     "data": {
      "image/png": "[encoded data removed]",
      "text/plain": [
       "<Figure size 640x480 with 1 Axes>"
      ]
     },
     "metadata": {},
     "output_type": "display_data"
    }
   ],
   "source": [
    "import matplotlib.pyplot as plt\n",
    "\n",
    "scores.plot.hist(bins=30, edgecolor=\"black\")\n",
    "plt.xlabel(\"Mean absolute error (k$)\")\n",
    "_ = plt.title(\"Train and test errors distribution via cross-validation\")"
   ]
  },
  {
   "cell_type": "markdown",
   "id": "43ff4489-5090-4e50-aba0-d1d5d247c744",
   "metadata": {},
   "source": [
    "Here, we observe a **small training error** (actually zero), meaning that the\r\n",
    "model is **not under-fitting**: it is flexible enough to capture any\r\n",
    "variations present in the training set.\r\n",
    "\r\n",
    "However the **significantly larger testing error** tells us that the model is\r\n",
    "**over-fitting**: the model has memorized many variations of the training set\r\n",
    "that could be considered \"noisy\" because they do not generalize to help us\r\n",
    "make good prediction on the test set.\r\n",
    "\r\n",
    "## Validation curve\r\n",
    "\r\n",
    "We call **hyperparameters** those parameters that potentially impact the\r\n",
    "result of the learning and subsequent predictions of a predictor. For example:\r\n",
    "\r\n",
    "- the number of neighbors in a k-nearest neighbor model;\r\n",
    "\r\n",
    "- the degree of the polynomial.\r\n",
    "\r\n",
    "Some model hyperparameters are usually the key to go from a model that\r\n",
    "underfits to a model that overfits, hopefully going through a region were we\r\n",
    "can get a good balance between the two. We can acquire knowledge by plotting a\r\n",
    "curve called the validation curve. This curve can also be applied to the above\r\n",
    "experiment and varies the value of a hyperparameter.\r\n",
    "\r\n",
    "For the decision tree, the `max_depth` hyperparameter is used to control the\r\n",
    "tradeoff between under-fitting and over-fitting."
   ]
  },
  {
   "cell_type": "code",
   "execution_count": 24,
   "id": "d77f0723-b04d-4ebd-8078-11d32e8f1f54",
   "metadata": {},
   "outputs": [
    {
     "data": {
      "image/png": "[encoded data removed]",
      "text/plain": [
       "<Figure size 640x480 with 1 Axes>"
      ]
     },
     "metadata": {},
     "output_type": "display_data"
    }
   ],
   "source": [
    "from sklearn.model_selection import ValidationCurveDisplay\n",
    "import numpy as np\n",
    "\n",
    "max_depth = np.array([1, 5, 10, 15, 20, 25])\n",
    "\n",
    "\n",
    "disp = ValidationCurveDisplay.from_estimator(\n",
    "                regressor,\n",
    "                features_df,\n",
    "                target,\n",
    "                param_name='max_depth',\n",
    "                param_range=max_depth,\n",
    "                cv=cv_mode,\n",
    "                scoring='neg_mean_absolute_error',\n",
    "                negate_score=True,\n",
    "                std_display_style='errorbar',\n",
    "                n_jobs=2\n",
    "                            )\n",
    "\n",
    "_ = disp.ax_.set(\n",
    "    xlabel=\"Maximum depth of decision tree\",\n",
    "    ylabel=\"Mean absolute error (k$)\",\n",
    "    title=\"Validate curve for decision tree\",\n",
    ")"
   ]
  },
  {
   "cell_type": "markdown",
   "id": "889c2319-0358-44b1-a872-e1b5786ede42",
   "metadata": {},
   "source": [
    "The validation curve can be divided into three areas:\r\n",
    "\r\n",
    "- For `max_depth < 10`, the decision tree underfits. The training error and\r\n",
    "  therefore the testing error are both high. The model is too constrained and\r\n",
    "  cannot capture much of the variability of the target variable.\r\n",
    "\r\n",
    "- The region around `max_depth = 10` corresponds to the parameter for which\r\n",
    "  the decision tree generalizes the best. It is flexible enough to capture a\r\n",
    "  fraction of the variability of the target that generalizes, while not\r\n",
    "  memorizing all of the noise in the target.\r\n",
    "\r\n",
    "- For `max_depth > 10`, the decision tree overfits. The training error becomes\r\n",
    "  very small, while the testing error increases. In this region, the models\r\n",
    "  create decisions specifically for noisy samples harming its ability to\r\n",
    "  generalize to test data.\r\n",
    "\r\n",
    "Note that for `max_depth = 10`, the model overfits a bit as there is a gap\r\n",
    "between the training error and the testing error. It can also potentially\r\n",
    "underfit also a bit at the same time, because the training error is still far\r\n",
    "from zero (more than 30 k\\\\$), meaning that the model might still be too\r\n",
    "constrained to model interesting parts of the data. However, the testing error\r\n",
    "is minimal, and this is what really matters. This is the best compromise we\r\n",
    "could reach by just tuning this parameter.\r\n",
    "\r\n",
    "Be aware that looking at the mean errors is quite limiting. We should also\r\n",
    "look at the standard deviation to assess the dispersion of the score. For such\r\n",
    "purpose, we can use the parameter `std_display_style` to show the standard\r\n",
    "deviation of the errors as well. In this case, the variance of the errors is\r\n",
    "small compared to their respective values, and therefore the conclusions above\r\n",
    "are quite clear. This is not necessarily always the case."
   ]
  },
  {
   "cell_type": "markdown",
   "id": "5169ad5e-1908-4c4b-abc1-91de1cee6a59",
   "metadata": {},
   "source": [
    "## Effect of Sample Size on Cross Validation"
   ]
  },
  {
   "cell_type": "code",
   "execution_count": 27,
   "id": "8f5e69e4-1cdb-4214-82e0-ef876066d783",
   "metadata": {},
   "outputs": [
    {
     "data": {
      "image/png": "[encoded data removed]",
      "text/plain": [
       "<Figure size 640x480 with 1 Axes>"
      ]
     },
     "metadata": {},
     "output_type": "display_data"
    }
   ],
   "source": [
    "from sklearn.model_selection import LearningCurveDisplay\n",
    "\n",
    "train_sizes = np.linspace(0.1, 1.0, num=5, endpoint=True)\n",
    "\n",
    "disp = LearningCurveDisplay.from_estimator(\n",
    "                regressor,\n",
    "                features_df,\n",
    "                target,\n",
    "                train_sizes=train_sizes, \n",
    "                cv=cv_mode,\n",
    "                score_type='both', #Training and testing\n",
    "                scoring='neg_mean_absolute_error',\n",
    "                negate_score=True,\n",
    "                score_name='Mean Absolute Error (k$)', \n",
    "                std_display_style='errorbar',\n",
    "                n_jobs=2\n",
    "                            )\n",
    "\n"
   ]
  },
  {
   "cell_type": "markdown",
   "id": "33b27a07-a847-46af-ba20-465c7e3dbf00",
   "metadata": {},
   "source": [
    "Looking at the training error alone, we see that we get an error of 0 k$. It\n",
    "means that the trained model (i.e. decision tree) is clearly overfitting the\n",
    "training data.\n",
    "\n",
    "Looking at the testing error alone, we observe that the more samples are\n",
    "added into the training set, the lower the testing error becomes. Also, we\n",
    "are searching for the plateau of the testing error for which there is no\n",
    "benefit to adding samples anymore or assessing the potential gain of adding\n",
    "more samples into the training set.\n",
    "\n",
    "> If we achieve a plateau and adding new samples in the training set does not\n",
    "reduce the testing error, we might have reached the Bayes error rate using the\n",
    "available model. Using a more complex model might be the only possibility to\n",
    "reduce the testing error further."
   ]
  },
  {
   "cell_type": "code",
   "execution_count": 29,
   "id": "29a1fee5-1b7b-4fcc-a589-276524768cb4",
   "metadata": {},
   "outputs": [
    {
     "data": {
      "text/html": [
       "<div>\n",
       "<style scoped>\n",
       "    .dataframe tbody tr th:only-of-type {\n",
       "        vertical-align: middle;\n",
       "    }\n",
       "\n",
       "    .dataframe tbody tr th {\n",
       "        vertical-align: top;\n",
       "    }\n",
       "\n",
       "    .dataframe thead th {\n",
       "        text-align: right;\n",
       "    }\n",
       "</style>\n",
       "<table border=\"1\" class=\"dataframe\">\n",
       "  <thead>\n",
       "    <tr style=\"text-align: right;\">\n",
       "      <th></th>\n",
       "      <th>Recency</th>\n",
       "      <th>Frequency</th>\n",
       "      <th>Monetary</th>\n",
       "      <th>Time</th>\n",
       "      <th>Class</th>\n",
       "    </tr>\n",
       "  </thead>\n",
       "  <tbody>\n",
       "    <tr>\n",
       "      <th>0</th>\n",
       "      <td>2</td>\n",
       "      <td>50</td>\n",
       "      <td>12500</td>\n",
       "      <td>98</td>\n",
       "      <td>donated</td>\n",
       "    </tr>\n",
       "    <tr>\n",
       "      <th>1</th>\n",
       "      <td>0</td>\n",
       "      <td>13</td>\n",
       "      <td>3250</td>\n",
       "      <td>28</td>\n",
       "      <td>donated</td>\n",
       "    </tr>\n",
       "    <tr>\n",
       "      <th>2</th>\n",
       "      <td>1</td>\n",
       "      <td>16</td>\n",
       "      <td>4000</td>\n",
       "      <td>35</td>\n",
       "      <td>donated</td>\n",
       "    </tr>\n",
       "    <tr>\n",
       "      <th>3</th>\n",
       "      <td>2</td>\n",
       "      <td>20</td>\n",
       "      <td>5000</td>\n",
       "      <td>45</td>\n",
       "      <td>donated</td>\n",
       "    </tr>\n",
       "    <tr>\n",
       "      <th>4</th>\n",
       "      <td>1</td>\n",
       "      <td>24</td>\n",
       "      <td>6000</td>\n",
       "      <td>77</td>\n",
       "      <td>not donated</td>\n",
       "    </tr>\n",
       "  </tbody>\n",
       "</table>\n",
       "</div>"
      ],
      "text/plain": [
       "   Recency  Frequency  Monetary  Time        Class\n",
       "0        2         50     12500    98      donated\n",
       "1        0         13      3250    28      donated\n",
       "2        1         16      4000    35      donated\n",
       "3        2         20      5000    45      donated\n",
       "4        1         24      6000    77  not donated"
      ]
     },
     "execution_count": 29,
     "metadata": {},
     "output_type": "execute_result"
    }
   ],
   "source": [
    "import pandas as pd\n",
    "\n",
    "# Get the df_url\n",
    "df_url = 'https://raw.githubusercontent.com/INRIA/scikit-learn-mooc/main/datasets/blood_transfusion.csv'\n",
    "\n",
    "# Grab the df\n",
    "blood_tr_df = pd.read_csv(df_url)\n",
    "\n",
    "# Preview the data\n",
    "blood_tr_df.head()"
   ]
  },
  {
   "cell_type": "code",
   "execution_count": 30,
   "id": "0024a620-3090-4b24-810e-4c0fdca6f3cd",
   "metadata": {},
   "outputs": [],
   "source": [
    "# target\n",
    "target = blood_tr_df['Class']\n",
    "\n",
    "# Features DF\n",
    "features_df = blood_tr_df.drop(columns='Class')"
   ]
  },
  {
   "cell_type": "code",
   "execution_count": 31,
   "id": "df1117c8-fc78-405a-a1af-a391a9dbb2df",
   "metadata": {},
   "outputs": [
    {
     "data": {
      "text/html": [
       "<div>\n",
       "<style scoped>\n",
       "    .dataframe tbody tr th:only-of-type {\n",
       "        vertical-align: middle;\n",
       "    }\n",
       "\n",
       "    .dataframe tbody tr th {\n",
       "        vertical-align: top;\n",
       "    }\n",
       "\n",
       "    .dataframe thead th {\n",
       "        text-align: right;\n",
       "    }\n",
       "</style>\n",
       "<table border=\"1\" class=\"dataframe\">\n",
       "  <thead>\n",
       "    <tr style=\"text-align: right;\">\n",
       "      <th></th>\n",
       "      <th>fit_time</th>\n",
       "      <th>score_time</th>\n",
       "      <th>test_score</th>\n",
       "    </tr>\n",
       "  </thead>\n",
       "  <tbody>\n",
       "    <tr>\n",
       "      <th>0</th>\n",
       "      <td>0.022409</td>\n",
       "      <td>0.001405</td>\n",
       "      <td>0.740000</td>\n",
       "    </tr>\n",
       "    <tr>\n",
       "      <th>1</th>\n",
       "      <td>0.019869</td>\n",
       "      <td>0.009253</td>\n",
       "      <td>0.786667</td>\n",
       "    </tr>\n",
       "    <tr>\n",
       "      <th>2</th>\n",
       "      <td>0.023503</td>\n",
       "      <td>0.009414</td>\n",
       "      <td>0.733333</td>\n",
       "    </tr>\n",
       "    <tr>\n",
       "      <th>3</th>\n",
       "      <td>0.021643</td>\n",
       "      <td>0.009002</td>\n",
       "      <td>0.740000</td>\n",
       "    </tr>\n",
       "    <tr>\n",
       "      <th>4</th>\n",
       "      <td>0.024355</td>\n",
       "      <td>0.012735</td>\n",
       "      <td>0.753333</td>\n",
       "    </tr>\n",
       "  </tbody>\n",
       "</table>\n",
       "</div>"
      ],
      "text/plain": [
       "   fit_time  score_time  test_score\n",
       "0  0.022409    0.001405    0.740000\n",
       "1  0.019869    0.009253    0.786667\n",
       "2  0.023503    0.009414    0.733333\n",
       "3  0.021643    0.009002    0.740000\n",
       "4  0.024355    0.012735    0.753333"
      ]
     },
     "execution_count": 31,
     "metadata": {},
     "output_type": "execute_result"
    }
   ],
   "source": [
    "from sklearn.compose import ColumnTransformer\n",
    "from sklearn.preprocessing import StandardScaler\n",
    "from sklearn.svm import SVC\n",
    "from sklearn.pipeline import Pipeline\n",
    "\n",
    "\n",
    "# Write Your Transformers\n",
    "num_transformer = Pipeline(\n",
    "                        # Standardize the numerical features\n",
    "                       steps=('num_std', StandardScaler())\n",
    "                         )\n",
    "\n",
    "\n",
    "\n",
    "pre_proc = ColumnTransformer(\n",
    "                                [\n",
    "                    # Standardize the numerical features\n",
    "                    ('num', num_transformer, features_df.columns)\n",
    "                                ]\n",
    "                            )\n",
    "\n",
    "# Initialize the classifier\n",
    "sv_class = SVC(kernel='rbf')\n",
    "\n",
    "\n",
    "\n",
    "# Overfitting vs Under-fitting\n",
    "cv_mode = ShuffleSplit(n_splits=30, test_size=0.2, random_state=123)\n",
    "\n",
    "cv_results = cross_validate(\n",
    "                    sv_class,\n",
    "                    features_df,\n",
    "                    target,\n",
    "                    cv=cv_mode,\n",
    "                          )\n",
    "\n",
    "# Vonvert CV to DF\n",
    "cv_results = pd.DataFrame(cv_results)\n",
    "\n",
    "\n",
    "# Preview the results\n",
    "cv_results.head()"
   ]
  },
  {
   "cell_type": "code",
   "execution_count": 32,
   "id": "005bba3d-4b1f-4081-b577-087864c1a41a",
   "metadata": {},
   "outputs": [
    {
     "data": {
      "image/png": "[encoded data removed]",
      "text/plain": [
       "<Figure size 640x480 with 1 Axes>"
      ]
     },
     "metadata": {},
     "output_type": "display_data"
    }
   ],
   "source": [
    "gamma_range = np.logspace(-3, 2, num=30)\n",
    "\n",
    "disp = ValidationCurveDisplay.from_estimator(\n",
    "                sv_class,\n",
    "                features_df,\n",
    "                target,\n",
    "                param_name='gamma',\n",
    "                param_range=gamma_range,\n",
    "                cv=cv_mode,\n",
    "                std_display_style='errorbar',\n",
    "                            )\n",
    "\n",
    "_ = disp.ax_.set(\n",
    "    xlabel=\"Maximum depth of decision tree\",\n",
    "    ylabel=\"Mean absolute error (k$)\",\n",
    "    title=\"Validate curve for decision tree\",\n",
    ")"
   ]
  },
  {
   "cell_type": "code",
   "execution_count": 33,
   "id": "a6999672-4158-4db8-a455-a2e97a2de4a6",
   "metadata": {},
   "outputs": [
    {
     "data": {
      "image/png": "[encoded data removed]",
      "text/plain": [
       "<Figure size 640x480 with 1 Axes>"
      ]
     },
     "metadata": {},
     "output_type": "display_data"
    }
   ],
   "source": [
    "\n",
    "train_sizes = np.linspace(0.1, 1.0, num=5, endpoint=True)\n",
    "\n",
    "disp = LearningCurveDisplay.from_estimator(\n",
    "                sv_class,\n",
    "                features_df,\n",
    "                target,\n",
    "                train_sizes=train_sizes, \n",
    "                cv=cv_mode,\n",
    "                score_type='both', #Training and testing\n",
    "                score_name='Accuracy', \n",
    "                std_display_style='errorbar',\n",
    "                n_jobs=2\n",
    "                            )\n",
    "\n"
   ]
  },
  {
   "cell_type": "code",
   "execution_count": 43,
   "id": "e4374cef-e383-4196-90d8-f35f54b18c7c",
   "metadata": {},
   "outputs": [
    {
     "data": {
      "text/plain": [
       "0.5"
      ]
     },
     "execution_count": 43,
     "metadata": {},
     "output_type": "execute_result"
    }
   ],
   "source": [
    "from sklearn.dummy import DummyClassifier\n",
    "from sklearn.metrics import accuracy_score\n",
    "\n",
    "# instantiate the classifier\n",
    "dum_class = DummyClassifier(strategy='most_frequent')\n",
    "\n",
    "\n",
    "# Overfitting vs Under-fitting\n",
    "cv_mode = ShuffleSplit(n_splits=30, test_size=0.2, random_state=123)\n",
    "\n",
    "cv_results = cross_validate(\n",
    "                    dum_class,\n",
    "                    features_df,\n",
    "                    target,\n",
    "                    cv=cv_mode,\n",
    "                    scoring='balanced_accuracy' #balanced scoring metric\n",
    "                          )\n",
    "\n",
    "# Vonvert CV to DF\n",
    "cv_results = pd.DataFrame(cv_results)\n",
    "\n",
    "\n",
    "# Preview the results\n",
    "cv_results['test_score'].mean()"
   ]
  },
  {
   "cell_type": "code",
   "execution_count": 58,
   "id": "06098646-5f16-4f2b-81b2-c0ee273db1d5",
   "metadata": {},
   "outputs": [
    {
     "data": {
      "text/html": [
       "<div>\n",
       "<style scoped>\n",
       "    .dataframe tbody tr th:only-of-type {\n",
       "        vertical-align: middle;\n",
       "    }\n",
       "\n",
       "    .dataframe tbody tr th {\n",
       "        vertical-align: top;\n",
       "    }\n",
       "\n",
       "    .dataframe thead th {\n",
       "        text-align: right;\n",
       "    }\n",
       "</style>\n",
       "<table border=\"1\" class=\"dataframe\">\n",
       "  <thead>\n",
       "    <tr style=\"text-align: right;\">\n",
       "      <th></th>\n",
       "      <th>fit_time</th>\n",
       "      <th>score_time</th>\n",
       "      <th>estimator</th>\n",
       "      <th>test_score</th>\n",
       "      <th>train_score</th>\n",
       "    </tr>\n",
       "  </thead>\n",
       "  <tbody>\n",
       "    <tr>\n",
       "      <th>0</th>\n",
       "      <td>0.004047</td>\n",
       "      <td>0.010169</td>\n",
       "      <td>KNeighborsClassifier(n_neighbors=1)</td>\n",
       "      <td>0.575000</td>\n",
       "      <td>0.891667</td>\n",
       "    </tr>\n",
       "    <tr>\n",
       "      <th>1</th>\n",
       "      <td>0.003158</td>\n",
       "      <td>0.008629</td>\n",
       "      <td>KNeighborsClassifier(n_neighbors=1)</td>\n",
       "      <td>0.642744</td>\n",
       "      <td>0.883516</td>\n",
       "    </tr>\n",
       "    <tr>\n",
       "      <th>2</th>\n",
       "      <td>0.004749</td>\n",
       "      <td>0.009561</td>\n",
       "      <td>KNeighborsClassifier(n_neighbors=1)</td>\n",
       "      <td>0.575968</td>\n",
       "      <td>0.895055</td>\n",
       "    </tr>\n",
       "    <tr>\n",
       "      <th>3</th>\n",
       "      <td>0.003690</td>\n",
       "      <td>0.010099</td>\n",
       "      <td>KNeighborsClassifier(n_neighbors=1)</td>\n",
       "      <td>0.557866</td>\n",
       "      <td>0.892110</td>\n",
       "    </tr>\n",
       "    <tr>\n",
       "      <th>4</th>\n",
       "      <td>0.002000</td>\n",
       "      <td>0.008870</td>\n",
       "      <td>KNeighborsClassifier(n_neighbors=1)</td>\n",
       "      <td>0.569242</td>\n",
       "      <td>0.872565</td>\n",
       "    </tr>\n",
       "  </tbody>\n",
       "</table>\n",
       "</div>"
      ],
      "text/plain": [
       "   fit_time  score_time                            estimator  test_score  \\\n",
       "0  0.004047    0.010169  KNeighborsClassifier(n_neighbors=1)    0.575000   \n",
       "1  0.003158    0.008629  KNeighborsClassifier(n_neighbors=1)    0.642744   \n",
       "2  0.004749    0.009561  KNeighborsClassifier(n_neighbors=1)    0.575968   \n",
       "3  0.003690    0.010099  KNeighborsClassifier(n_neighbors=1)    0.557866   \n",
       "4  0.002000    0.008870  KNeighborsClassifier(n_neighbors=1)    0.569242   \n",
       "\n",
       "   train_score  \n",
       "0     0.891667  \n",
       "1     0.883516  \n",
       "2     0.895055  \n",
       "3     0.892110  \n",
       "4     0.872565  "
      ]
     },
     "execution_count": 58,
     "metadata": {},
     "output_type": "execute_result"
    }
   ],
   "source": [
    "from sklearn.neighbors import KNeighborsClassifier\n",
    "\n",
    "\n",
    "# Write Your Transformers\n",
    "num_transformer = Pipeline(\n",
    "                        # Standardize the numerical features\n",
    "                       steps=('num_std', StandardScaler())\n",
    "                         )\n",
    "\n",
    "\n",
    "\n",
    "pre_proc = ColumnTransformer(\n",
    "                                [\n",
    "                    # Standardize the numerical features\n",
    "                    ('num', num_transformer, features_df.columns)\n",
    "                                ]\n",
    "                            )\n",
    "\n",
    "# Initialize the classifier\n",
    "knn_class = KNeighborsClassifier(n_neighbors=1)\n",
    "\n",
    "\n",
    "\n",
    "# Overfitting vs Under-fitting\n",
    "cv_mode = ShuffleSplit(n_splits=30, test_size=0.2, random_state=123)\n",
    "\n",
    "cv_results = cross_validate(\n",
    "                    knn_class,\n",
    "                    features_df,\n",
    "                    target,\n",
    "                    cv=cv_mode,\n",
    "                    return_estimator=True,\n",
    "                    return_train_score=True,\n",
    "                    scoring='balanced_accuracy'\n",
    "                          )\n",
    "\n",
    "# Grabing the model parameters\n",
    "# cv_results['estimator'][0].get_params()\n",
    "\n",
    "\n",
    "# Convert CV to DF\n",
    "cv_results = pd.DataFrame(cv_results)\n",
    "\n",
    "\n",
    "# Preview the results\n",
    "cv_results.head()"
   ]
  },
  {
   "cell_type": "code",
   "execution_count": 57,
   "id": "0a7cd5e0-37d3-443e-beeb-c0593ad1f47a",
   "metadata": {},
   "outputs": [
    {
     "name": "stdout",
     "output_type": "stream",
     "text": [
      "The train score is ---> 0.8841545484269323\n",
      "The test score is ---> 0.5879811347320946\n"
     ]
    }
   ],
   "source": [
    "print(\n",
    "      f'The train score is ---> {cv_results[\"train_score\"].mean()}\\n'\n",
    "      f'The test score is ---> {cv_results[\"test_score\"].mean()}'\n",
    "     )"
   ]
  },
  {
   "cell_type": "code",
   "execution_count": 60,
   "id": "edfdcbbd-6ef5-404b-bbd5-38bac1ec2020",
   "metadata": {},
   "outputs": [
    {
     "data": {
      "image/png": "[encoded data removed]",
      "text/plain": [
       "<Figure size 640x480 with 1 Axes>"
      ]
     },
     "metadata": {},
     "output_type": "display_data"
    }
   ],
   "source": [
    "# Effect of n_neighbors on learning\n",
    "param_range = np.array([1, 2, 5, 10, 20, 50, 100, 200, 500])\n",
    "\n",
    "\n",
    "cv_mode = ShuffleSplit(n_splits=5, test_size=0.2, random_state=123,)\n",
    "\n",
    "disp = ValidationCurveDisplay.from_estimator(\n",
    "                knn_class,\n",
    "                features_df,\n",
    "                target,\n",
    "                param_name='n_neighbors',\n",
    "                param_range=param_range,\n",
    "                cv=cv_mode,\n",
    "                scoring='accuracy',\n",
    "                std_display_style='errorbar',\n",
    "                            )\n",
    "\n",
    "_ = disp.ax_.set(\n",
    "    xlabel=\"Maximum Number of Neighbors\",\n",
    "    ylabel=\"Accuracy\",\n",
    "    title=\"Validate curve for KNN\",\n",
    ")"
   ]
  },
  {
   "cell_type": "markdown",
   "id": "7d540f86-c956-428f-a4c6-a78e6d74ca4e",
   "metadata": {},
   "source": [
    "> Underfitting happens when the gap between train and test scores is low and that both scores are low. When `n_neighbors` is high, underfitting occurs. The model lacks expressivity because it always considers the majority class of a large number of data points. Its prediction tends to be always the same, irrespective of the test point of interest."
   ]
  },
  {
   "cell_type": "code",
   "execution_count": null,
   "id": "dcd4bcaf-adb1-4218-a63b-07ea86ca5092",
   "metadata": {},
   "outputs": [],
   "source": []
  }
 ],
 "metadata": {
  "kernelspec": {
   "display_name": "Python 3 (ipykernel)",
   "language": "python",
   "name": "python3"
  },
  "language_info": {
   "codemirror_mode": {
    "name": "ipython",
    "version": 3
   },
   "file_extension": ".py",
   "mimetype": "text/x-python",
   "name": "python",
   "nbconvert_exporter": "python",
   "pygments_lexer": "ipython3",
   "version": "3.8.10"
  }
 },
 "nbformat": 4,
 "nbformat_minor": 5
}
